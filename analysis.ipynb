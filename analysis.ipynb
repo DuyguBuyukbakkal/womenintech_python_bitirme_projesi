{
 "cells": [
  {
   "cell_type": "code",
   "execution_count": 34,
   "metadata": {},
   "outputs": [],
   "source": [
    "import pandas as pd\n"
   ]
  },
  {
   "cell_type": "code",
   "execution_count": 35,
   "metadata": {},
   "outputs": [],
   "source": [
    "customers=pd.read_csv(\"/Users/duygubuyukbakkal/Downloads/salesdb/customers.csv\")\n",
    "employees=pd.read_csv(\"/Users/duygubuyukbakkal/Downloads/salesdb/employees.csv\")\n",
    "products=pd.read_csv(\"/Users/duygubuyukbakkal/Downloads/salesdb/products.csv\")\n",
    "sales=pd.read_csv(\"/Users/duygubuyukbakkal/Downloads/salesdb/sales.csv\")"
   ]
  },
  {
   "cell_type": "code",
   "execution_count": 36,
   "metadata": {},
   "outputs": [],
   "source": [
    "products_sales=sales.merge(products,on=\"ProductID\",how=\"left\")\n"
   ]
  },
  {
   "cell_type": "code",
   "execution_count": 37,
   "metadata": {},
   "outputs": [
    {
     "data": {
      "text/plain": [
       "Name\n",
       "AWC Logo Cap                  1681578\n",
       "Adjustable Race               1689139\n",
       "All-Purpose Bike Stand        1917745\n",
       "BB Ball Bearing                770935\n",
       "Bearing Ball                  1515528\n",
       "                               ...   \n",
       "Touring-3000 Yellow, 58           974\n",
       "Women's Mountain Shorts, L        374\n",
       "Women's Mountain Shorts, M        878\n",
       "Women's Tights, L                 359\n",
       "Women's Tights, S                 357\n",
       "Name: Quantity, Length: 267, dtype: int64"
      ]
     },
     "execution_count": 37,
     "metadata": {},
     "output_type": "execute_result"
    }
   ],
   "source": [
    "#Hangi üründen ne kadar satıldığı\n",
    "products_sales.groupby(\"Name\")[\"Quantity\"].sum()"
   ]
  },
  {
   "cell_type": "code",
   "execution_count": 38,
   "metadata": {},
   "outputs": [
    {
     "data": {
      "text/plain": [
       "SalesPersonID\n",
       "1    253157371\n",
       "2    155714556\n",
       "3    141419313\n",
       "4    149166324\n",
       "Name: Quantity, dtype: int64"
      ]
     },
     "execution_count": 38,
     "metadata": {},
     "output_type": "execute_result"
    }
   ],
   "source": [
    "#her satıcının toplamda kaç ürün sattığı\n",
    "sales.groupby(\"SalesPersonID\")[\"Quantity\"].sum() "
   ]
  },
  {
   "cell_type": "code",
   "execution_count": 39,
   "metadata": {},
   "outputs": [
    {
     "data": {
      "text/html": [
       "<div>\n",
       "<style scoped>\n",
       "    .dataframe tbody tr th:only-of-type {\n",
       "        vertical-align: middle;\n",
       "    }\n",
       "\n",
       "    .dataframe tbody tr th {\n",
       "        vertical-align: top;\n",
       "    }\n",
       "\n",
       "    .dataframe thead th {\n",
       "        text-align: right;\n",
       "    }\n",
       "</style>\n",
       "<table border=\"1\" class=\"dataframe\">\n",
       "  <thead>\n",
       "    <tr style=\"text-align: right;\">\n",
       "      <th></th>\n",
       "      <th></th>\n",
       "      <th>Quantity</th>\n",
       "    </tr>\n",
       "    <tr>\n",
       "      <th>SalesPersonID</th>\n",
       "      <th>Name</th>\n",
       "      <th></th>\n",
       "    </tr>\n",
       "  </thead>\n",
       "  <tbody>\n",
       "    <tr>\n",
       "      <th rowspan=\"5\" valign=\"top\">1</th>\n",
       "      <th>AWC Logo Cap</th>\n",
       "      <td>335048</td>\n",
       "    </tr>\n",
       "    <tr>\n",
       "      <th>Adjustable Race</th>\n",
       "      <td>84393</td>\n",
       "    </tr>\n",
       "    <tr>\n",
       "      <th>All-Purpose Bike Stand</th>\n",
       "      <td>1837473</td>\n",
       "    </tr>\n",
       "    <tr>\n",
       "      <th>Bearing Ball</th>\n",
       "      <td>24</td>\n",
       "    </tr>\n",
       "    <tr>\n",
       "      <th>Blade</th>\n",
       "      <td>203010</td>\n",
       "    </tr>\n",
       "    <tr>\n",
       "      <th>...</th>\n",
       "      <th>...</th>\n",
       "      <td>...</td>\n",
       "    </tr>\n",
       "    <tr>\n",
       "      <th rowspan=\"5\" valign=\"top\">4</th>\n",
       "      <th>Touring-1000 Yellow, 50</th>\n",
       "      <td>891480</td>\n",
       "    </tr>\n",
       "    <tr>\n",
       "      <th>Touring-2000 Blue, 54</th>\n",
       "      <td>954</td>\n",
       "    </tr>\n",
       "    <tr>\n",
       "      <th>Touring-3000 Blue, 44</th>\n",
       "      <td>1693445</td>\n",
       "    </tr>\n",
       "    <tr>\n",
       "      <th>Touring-3000 Blue, 50</th>\n",
       "      <td>9212023</td>\n",
       "    </tr>\n",
       "    <tr>\n",
       "      <th>Women's Tights, S</th>\n",
       "      <td>357</td>\n",
       "    </tr>\n",
       "  </tbody>\n",
       "</table>\n",
       "<p>407 rows × 1 columns</p>\n",
       "</div>"
      ],
      "text/plain": [
       "                                       Quantity\n",
       "SalesPersonID Name                             \n",
       "1             AWC Logo Cap               335048\n",
       "              Adjustable Race             84393\n",
       "              All-Purpose Bike Stand    1837473\n",
       "              Bearing Ball                   24\n",
       "              Blade                      203010\n",
       "...                                         ...\n",
       "4             Touring-1000 Yellow, 50    891480\n",
       "              Touring-2000 Blue, 54         954\n",
       "              Touring-3000 Blue, 44     1693445\n",
       "              Touring-3000 Blue, 50     9212023\n",
       "              Women's Tights, S             357\n",
       "\n",
       "[407 rows x 1 columns]"
      ]
     },
     "execution_count": 39,
     "metadata": {},
     "output_type": "execute_result"
    }
   ],
   "source": [
    "#Çalışanların hangi üründen kaçar tane sattığı.\n",
    "products_sales.groupby([\"SalesPersonID\",\"Name\"]).agg({\"Quantity\":\"sum\"})"
   ]
  },
  {
   "cell_type": "code",
   "execution_count": 40,
   "metadata": {},
   "outputs": [
    {
     "data": {
      "text/html": [
       "<div>\n",
       "<style scoped>\n",
       "    .dataframe tbody tr th:only-of-type {\n",
       "        vertical-align: middle;\n",
       "    }\n",
       "\n",
       "    .dataframe tbody tr th {\n",
       "        vertical-align: top;\n",
       "    }\n",
       "\n",
       "    .dataframe thead th {\n",
       "        text-align: right;\n",
       "    }\n",
       "</style>\n",
       "<table border=\"1\" class=\"dataframe\">\n",
       "  <thead>\n",
       "    <tr style=\"text-align: right;\">\n",
       "      <th></th>\n",
       "      <th></th>\n",
       "      <th>Quantity</th>\n",
       "    </tr>\n",
       "    <tr>\n",
       "      <th>CustomerID</th>\n",
       "      <th>SalesPersonID</th>\n",
       "      <th></th>\n",
       "    </tr>\n",
       "  </thead>\n",
       "  <tbody>\n",
       "    <tr>\n",
       "      <th>1</th>\n",
       "      <th>1</th>\n",
       "      <td>63297</td>\n",
       "    </tr>\n",
       "    <tr>\n",
       "      <th>5</th>\n",
       "      <th>4</th>\n",
       "      <td>431756</td>\n",
       "    </tr>\n",
       "    <tr>\n",
       "      <th>8</th>\n",
       "      <th>4</th>\n",
       "      <td>105716</td>\n",
       "    </tr>\n",
       "    <tr>\n",
       "      <th>21</th>\n",
       "      <th>4</th>\n",
       "      <td>460408</td>\n",
       "    </tr>\n",
       "    <tr>\n",
       "      <th>24</th>\n",
       "      <th>4</th>\n",
       "      <td>741</td>\n",
       "    </tr>\n",
       "    <tr>\n",
       "      <th>...</th>\n",
       "      <th>...</th>\n",
       "      <td>...</td>\n",
       "    </tr>\n",
       "    <tr>\n",
       "      <th rowspan=\"2\" valign=\"top\">19440</th>\n",
       "      <th>1</th>\n",
       "      <td>753702</td>\n",
       "    </tr>\n",
       "    <tr>\n",
       "      <th>2</th>\n",
       "      <td>162</td>\n",
       "    </tr>\n",
       "    <tr>\n",
       "      <th>19520</th>\n",
       "      <th>2</th>\n",
       "      <td>21828120</td>\n",
       "    </tr>\n",
       "    <tr>\n",
       "      <th rowspan=\"2\" valign=\"top\">19680</th>\n",
       "      <th>3</th>\n",
       "      <td>742266</td>\n",
       "    </tr>\n",
       "    <tr>\n",
       "      <th>4</th>\n",
       "      <td>6335</td>\n",
       "    </tr>\n",
       "  </tbody>\n",
       "</table>\n",
       "<p>354 rows × 1 columns</p>\n",
       "</div>"
      ],
      "text/plain": [
       "                          Quantity\n",
       "CustomerID SalesPersonID          \n",
       "1          1                 63297\n",
       "5          4                431756\n",
       "8          4                105716\n",
       "21         4                460408\n",
       "24         4                   741\n",
       "...                            ...\n",
       "19440      1                753702\n",
       "           2                   162\n",
       "19520      2              21828120\n",
       "19680      3                742266\n",
       "           4                  6335\n",
       "\n",
       "[354 rows x 1 columns]"
      ]
     },
     "execution_count": 40,
     "metadata": {},
     "output_type": "execute_result"
    }
   ],
   "source": [
    "#Müşterilerin hangi çalışandan ne kadar ürün satın aldığı\n",
    "sales.groupby([\"CustomerID\",\"SalesPersonID\"]).agg({\"Quantity\":\"sum\"})"
   ]
  },
  {
   "cell_type": "code",
   "execution_count": 41,
   "metadata": {},
   "outputs": [
    {
     "data": {
      "text/html": [
       "<div>\n",
       "<style scoped>\n",
       "    .dataframe tbody tr th:only-of-type {\n",
       "        vertical-align: middle;\n",
       "    }\n",
       "\n",
       "    .dataframe tbody tr th {\n",
       "        vertical-align: top;\n",
       "    }\n",
       "\n",
       "    .dataframe thead th {\n",
       "        text-align: right;\n",
       "    }\n",
       "</style>\n",
       "<table border=\"1\" class=\"dataframe\">\n",
       "  <thead>\n",
       "    <tr style=\"text-align: right;\">\n",
       "      <th>SalesPersonID</th>\n",
       "      <th>1</th>\n",
       "      <th>2</th>\n",
       "      <th>3</th>\n",
       "      <th>4</th>\n",
       "    </tr>\n",
       "    <tr>\n",
       "      <th>CustomerID</th>\n",
       "      <th></th>\n",
       "      <th></th>\n",
       "      <th></th>\n",
       "      <th></th>\n",
       "    </tr>\n",
       "  </thead>\n",
       "  <tbody>\n",
       "    <tr>\n",
       "      <th>1</th>\n",
       "      <td>11.063975</td>\n",
       "      <td>NaN</td>\n",
       "      <td>NaN</td>\n",
       "      <td>NaN</td>\n",
       "    </tr>\n",
       "    <tr>\n",
       "      <th>5</th>\n",
       "      <td>NaN</td>\n",
       "      <td>NaN</td>\n",
       "      <td>NaN</td>\n",
       "      <td>988.000000</td>\n",
       "    </tr>\n",
       "    <tr>\n",
       "      <th>8</th>\n",
       "      <td>NaN</td>\n",
       "      <td>NaN</td>\n",
       "      <td>NaN</td>\n",
       "      <td>988.000000</td>\n",
       "    </tr>\n",
       "    <tr>\n",
       "      <th>21</th>\n",
       "      <td>NaN</td>\n",
       "      <td>NaN</td>\n",
       "      <td>NaN</td>\n",
       "      <td>988.000000</td>\n",
       "    </tr>\n",
       "    <tr>\n",
       "      <th>24</th>\n",
       "      <td>NaN</td>\n",
       "      <td>NaN</td>\n",
       "      <td>NaN</td>\n",
       "      <td>741.000000</td>\n",
       "    </tr>\n",
       "    <tr>\n",
       "      <th>...</th>\n",
       "      <td>...</td>\n",
       "      <td>...</td>\n",
       "      <td>...</td>\n",
       "      <td>...</td>\n",
       "    </tr>\n",
       "    <tr>\n",
       "      <th>19280</th>\n",
       "      <td>983.827956</td>\n",
       "      <td>NaN</td>\n",
       "      <td>243.0</td>\n",
       "      <td>982.142857</td>\n",
       "    </tr>\n",
       "    <tr>\n",
       "      <th>19360</th>\n",
       "      <td>NaN</td>\n",
       "      <td>NaN</td>\n",
       "      <td>NaN</td>\n",
       "      <td>820.008845</td>\n",
       "    </tr>\n",
       "    <tr>\n",
       "      <th>19440</th>\n",
       "      <td>408.732104</td>\n",
       "      <td>162.000000</td>\n",
       "      <td>NaN</td>\n",
       "      <td>NaN</td>\n",
       "    </tr>\n",
       "    <tr>\n",
       "      <th>19520</th>\n",
       "      <td>NaN</td>\n",
       "      <td>985.468172</td>\n",
       "      <td>NaN</td>\n",
       "      <td>NaN</td>\n",
       "    </tr>\n",
       "    <tr>\n",
       "      <th>19680</th>\n",
       "      <td>NaN</td>\n",
       "      <td>NaN</td>\n",
       "      <td>411.0</td>\n",
       "      <td>905.000000</td>\n",
       "    </tr>\n",
       "  </tbody>\n",
       "</table>\n",
       "<p>275 rows × 4 columns</p>\n",
       "</div>"
      ],
      "text/plain": [
       "SalesPersonID           1           2      3           4\n",
       "CustomerID                                              \n",
       "1               11.063975         NaN    NaN         NaN\n",
       "5                     NaN         NaN    NaN  988.000000\n",
       "8                     NaN         NaN    NaN  988.000000\n",
       "21                    NaN         NaN    NaN  988.000000\n",
       "24                    NaN         NaN    NaN  741.000000\n",
       "...                   ...         ...    ...         ...\n",
       "19280          983.827956         NaN  243.0  982.142857\n",
       "19360                 NaN         NaN    NaN  820.008845\n",
       "19440          408.732104  162.000000    NaN         NaN\n",
       "19520                 NaN  985.468172    NaN         NaN\n",
       "19680                 NaN         NaN  411.0  905.000000\n",
       "\n",
       "[275 rows x 4 columns]"
      ]
     },
     "execution_count": 41,
     "metadata": {},
     "output_type": "execute_result"
    }
   ],
   "source": [
    "#Müşterilerin hangi çalışandan ne kadar ürün satın aldığı.(Alternatif pivot kullanarak)\n",
    "sales.pivot_table(\"Quantity\",\"CustomerID\",\"SalesPersonID\")"
   ]
  },
  {
   "cell_type": "code",
   "execution_count": 42,
   "metadata": {},
   "outputs": [
    {
     "name": "stdout",
     "output_type": "stream",
     "text": [
      "                total_price\n",
      "SalesPersonID              \n",
      "1              1.265402e+11\n",
      "2              8.680831e+10\n",
      "3              3.682692e+10\n",
      "4              5.555479e+10\n"
     ]
    }
   ],
   "source": [
    "#Çalışanların satışlardan kazandırdığı para.\n",
    "products_sales[\"total_price\"]=products_sales[\"Quantity\"]*products_sales[\"Price\"]\n",
    "sales_per_saler=products_sales.groupby([\"SalesPersonID\"]).agg({\"total_price\":\"sum\"})\n",
    "print(sales_per_saler)"
   ]
  },
  {
   "cell_type": "code",
   "execution_count": 43,
   "metadata": {},
   "outputs": [
    {
     "data": {
      "text/plain": [
       "total_price    220120.704384\n",
       "dtype: float64"
      ]
     },
     "execution_count": 43,
     "metadata": {},
     "output_type": "execute_result"
    }
   ],
   "source": [
    "#Siparişlerin ortalama tutarları.\n",
    "products_sales.agg({\"total_price\":\"mean\"})\n"
   ]
  },
  {
   "cell_type": "code",
   "execution_count": 44,
   "metadata": {},
   "outputs": [
    {
     "data": {
      "text/plain": [
       "SalesPersonID  SalesPersonID\n",
       "1              1                505147\n",
       "2              2                312047\n",
       "3              3                277533\n",
       "4              4                294194\n",
       "Name: SalesPersonID, dtype: int64"
      ]
     },
     "execution_count": 44,
     "metadata": {},
     "output_type": "execute_result"
    }
   ],
   "source": [
    "#En çok satış yapan satıcı\n",
    "products_sales.groupby([\"SalesPersonID\"])[\"SalesPersonID\"].value_counts()\n"
   ]
  },
  {
   "cell_type": "code",
   "execution_count": 45,
   "metadata": {},
   "outputs": [
    {
     "data": {
      "text/plain": [
       "Quantity    25545878\n",
       "Name: Melanie, dtype: int64"
      ]
     },
     "execution_count": 45,
     "metadata": {},
     "output_type": "execute_result"
    }
   ],
   "source": [
    "#En fazla alışveriş yapan müşteri\n",
    "customers_sales=sales.merge(customers,on=\"CustomerID\",how=\"left\")\n",
    "sales_per_customer=customers_sales.groupby([\"FirstName\"]).agg({\"Quantity\":\"sum\"})\n",
    "sales_per_customer.sort_values([\"Quantity\"],ascending=False).iloc[0]"
   ]
  }
 ],
 "metadata": {
  "kernelspec": {
   "display_name": "Python 3 (ipykernel)",
   "language": "python",
   "name": "python3"
  },
  "language_info": {
   "codemirror_mode": {
    "name": "ipython",
    "version": 3
   },
   "file_extension": ".py",
   "mimetype": "text/x-python",
   "name": "python",
   "nbconvert_exporter": "python",
   "pygments_lexer": "ipython3",
   "version": "3.9.13"
  },
  "orig_nbformat": 4,
  "vscode": {
   "interpreter": {
    "hash": "ac6b3c669c08523b561a48216ba8e1b08e0795aa04902d380d40a41a4e568bd5"
   }
  }
 },
 "nbformat": 4,
 "nbformat_minor": 2
}
